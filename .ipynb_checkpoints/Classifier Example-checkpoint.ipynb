{
 "cells": [
  {
   "cell_type": "markdown",
   "id": "f53e4e43",
   "metadata": {},
   "source": [
    "## Imports only needs to be run at start of session\n",
    "  \n",
    "pandas is a datasciene \"dataframs\" library  \n",
    "***\n",
    "\n",
    "classification_library is a module I developed in \"Draft Workbook.ipynb\" \n",
    "it includes\n",
    "```\n",
    "datetime the standard python library for classifying year\n",
    "re the standard python library for __r__egular __e__xpressions\n",
    "```\n",
    "\n",
    "__Regular Expressions:__  \n",
    "Basic tutorial on the re library:  \n",
    "https://www.w3schools.com/python/python_regex.asp  \n",
    "  \n",
    "Interactive Website to design Regex **make sure to select Python on left:  \n",
    "https://regex101.com/\n"
   ]
  },
  {
   "cell_type": "code",
   "execution_count": 1,
   "id": "95c4862a",
   "metadata": {},
   "outputs": [],
   "source": [
    "import pandas as pd # datasciene \"dataframs\" library\n",
    "from classification_library import classify "
   ]
  },
  {
   "cell_type": "markdown",
   "id": "ca0d5700",
   "metadata": {},
   "source": [
    "## now load and visualize data\n",
    "test what happens if you remove \"header=None\", see what happens when header=2  \n",
    "Try changing the \"names\" list\n",
    "\n",
    "more information on all the options for the read_csv pandas function:\n",
    "https://pandas.pydata.org/docs/reference/api/pandas.read_csv.html"
   ]
  },
  {
   "cell_type": "code",
   "execution_count": 2,
   "id": "8749f6e7",
   "metadata": {},
   "outputs": [
    {
     "name": "stdout",
     "output_type": "stream",
     "text": [
      "    word 1 word 2 to_classify\n",
      "0      all   good      things\n",
      "1      may   not           be\n",
      "2  however   many           4\n",
      "3     but      it  2000-04-22\n",
      "4  should    work        44.3\n"
     ]
    }
   ],
   "source": [
    "df = pd.read_csv('test.csv', header=None, names=[\"word 1\", \"word 2\", \"to_classify\"]) \n",
    "print(df)"
   ]
  },
  {
   "cell_type": "markdown",
   "id": "e1cd8c7c",
   "metadata": {},
   "source": [
    "Now I wil classify the \"to_classify\" column into a \"classification\" collumn using the above classify function (this will need an "
   ]
  },
  {
   "cell_type": "code",
   "execution_count": 3,
   "id": "5c550a92",
   "metadata": {},
   "outputs": [
    {
     "name": "stdout",
     "output_type": "stream",
     "text": [
      "    word 1 word 2 to_classify  classification\n",
      "0      all   good      things     all letters\n",
      "1      may   not           be     all letters\n",
      "2  however   many           4    whole number\n",
      "3     but      it  2000-04-22            date\n",
      "4  should    work        44.3  decimal number\n"
     ]
    }
   ],
   "source": [
    "df[\"classification\"] = df.apply(classify, axis=1)\n",
    "print(df)"
   ]
  },
  {
   "cell_type": "markdown",
   "id": "39661347",
   "metadata": {},
   "source": [
    "Great! Now I want to save the results to a file"
   ]
  },
  {
   "cell_type": "code",
   "execution_count": 4,
   "id": "ee9b769b",
   "metadata": {},
   "outputs": [],
   "source": [
    "df.to_csv(\"new_files/save1.csv\")"
   ]
  }
 ],
 "metadata": {
  "kernelspec": {
   "display_name": "Python 3 (ipykernel)",
   "language": "python",
   "name": "python3"
  },
  "language_info": {
   "codemirror_mode": {
    "name": "ipython",
    "version": 3
   },
   "file_extension": ".py",
   "mimetype": "text/x-python",
   "name": "python",
   "nbconvert_exporter": "python",
   "pygments_lexer": "ipython3",
   "version": "3.9.5"
  }
 },
 "nbformat": 4,
 "nbformat_minor": 5
}
