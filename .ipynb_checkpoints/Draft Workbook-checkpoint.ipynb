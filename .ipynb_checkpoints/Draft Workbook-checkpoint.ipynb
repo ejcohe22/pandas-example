{
 "cells": [
  {
   "cell_type": "markdown",
   "id": "cea44178",
   "metadata": {},
   "source": [
    "## Imports only needs to be run at start of session\n",
    "\n",
    "datetime is standard python library for classifying year   \n",
    "re is a standard python library for __r__egular __e__xpressions\n",
    "***\n",
    "Regular Expressions: powerful but difficult to use correctly\n",
    "```\n",
    "Basic tutorial on the re library:  \n",
    "https://www.w3schools.com/python/python_regex.asp  \n",
    "  \n",
    "Interactive Website to design Regex **make sure to select Python on left:  \n",
    "https://regex101.com/\n",
    "```"
   ]
  },
  {
   "cell_type": "code",
   "execution_count": 3,
   "id": "39f0d031",
   "metadata": {},
   "outputs": [],
   "source": [
    "import datetime # for classifying year\n",
    "import re # Regular Expressions: powerful but difficult to use correctly"
   ]
  },
  {
   "cell_type": "markdown",
   "id": "8285d680",
   "metadata": {},
   "source": [
    "# Ill make some validate functions for the different things i want to classify.  \n",
    "# I will write up letters, integers, decimal numbers (aka float), YYYY-MM-DD."
   ]
  },
  {
   "cell_type": "code",
   "execution_count": 27,
   "id": "9cd89926",
   "metadata": {},
   "outputs": [],
   "source": [
    "# define my regular expressions\n",
    "only_letters = re.compile(r'[A-Za-z]*')\n",
    "NNNN_NN_NN = re.compile('[0-9]{4}-[0-9]{2}-[0-9]{2}')"
   ]
  },
  {
   "cell_type": "code",
   "execution_count": 30,
   "id": "e8369048",
   "metadata": {},
   "outputs": [],
   "source": [
    "def is_word(word_candidate):\n",
    "    if not isinstance(word_candidate, str):\n",
    "        return False\n",
    "    return bool( only_letters.fullmatch(word_candidate) )"
   ]
  },
  {
   "cell_type": "code",
   "execution_count": 31,
   "id": "4f71fe2c",
   "metadata": {},
   "outputs": [
    {
     "name": "stdout",
     "output_type": "stream",
     "text": [
      "\"1111\" is letters: False\n",
      "1111 is letters: False\n",
      "\"abcde\" is letters: True\n",
      "\"a4cde\" is letters: False\n"
     ]
    }
   ],
   "source": [
    "print(f'\"1111\" is letters: {is_word(\"1111\")}')\n",
    "print(f'1111 is letters: {is_word(1111)}')\n",
    "print(f'\"abcde\" is letters: {is_word(\"abcde\")}')\n",
    "print(f'\"a4cde\" is letters: {is_word(\"a4cde\")}')"
   ]
  },
  {
   "cell_type": "code",
   "execution_count": 32,
   "id": "56d3dbb1",
   "metadata": {},
   "outputs": [],
   "source": [
    "def is_int(integer_candidate):\n",
    "    original = integer_candidate\n",
    "    try:\n",
    "        int(integer_candidate) ## edge case: will cast decimal number to int\n",
    "        return not isinstance(original, float) # if original not float and cast worked: is int\n",
    "    except ValueError:\n",
    "        return False"
   ]
  },
  {
   "cell_type": "code",
   "execution_count": 33,
   "id": "dd9c1b84",
   "metadata": {},
   "outputs": [
    {
     "name": "stdout",
     "output_type": "stream",
     "text": [
      "1 is whole number: True\n",
      "\"1\" is whole number: True\n",
      "\"1.0\" is whole number: False\n",
      "1.5 is whole number: False\n"
     ]
    }
   ],
   "source": [
    "print(f'1 is whole number: {is_int(1)}')\n",
    "print(f'\"1\" is whole number: {is_int(\"1\")}')\n",
    "print(f'\"1.0\" is whole number: {is_int(\"1.0\")}')\n",
    "print(f'1.5 is whole number: {is_int(1.5)}')"
   ]
  },
  {
   "cell_type": "code",
   "execution_count": 34,
   "id": "25f38071",
   "metadata": {},
   "outputs": [],
   "source": [
    "def is_decimal(decimal_candidate):\n",
    "    try:\n",
    "        decimal_candidate = float(decimal_candidate)\n",
    "    except ValueError:\n",
    "        return False\n",
    "    return isinstance(decimal_candidate, float)"
   ]
  },
  {
   "cell_type": "code",
   "execution_count": 35,
   "id": "c5bd383d",
   "metadata": {},
   "outputs": [
    {
     "name": "stdout",
     "output_type": "stream",
     "text": [
      "1 is decimal number: True\n",
      "\"1\" is decimal number: True\n",
      "\"1.0\" is decimal number: True\n",
      "1.5 is decimal number: True\n"
     ]
    }
   ],
   "source": [
    "print(f'1 is decimal number: {is_decimal(1)}')\n",
    "print(f'\"1\" is decimal number: {is_decimal(\"1\")}')\n",
    "print(f'\"1.0\" is decimal number: {is_decimal(\"1.0\")}')\n",
    "print(f'1.5 is decimal number: {is_decimal(1.5)}')"
   ]
  },
  {
   "cell_type": "code",
   "execution_count": 38,
   "id": "5b6737e0",
   "metadata": {},
   "outputs": [],
   "source": [
    "def is_date(date_candidate):\n",
    "    if not isinstance(date_candidate, str):\n",
    "        return False\n",
    "    # as long as ####-##-## format\n",
    "    if bool( NNNN_NN_NN.fullmatch(date_candidate) ):\n",
    "        ## verify month and Day arent too large\n",
    "        try:\n",
    "            datetime.datetime.strptime(date_candidate, '%Y-%m-%d')\n",
    "            return True\n",
    "        except ValueError:\n",
    "            return False\n",
    "    # otherwise return false\n",
    "    return False"
   ]
  },
  {
   "cell_type": "code",
   "execution_count": 39,
   "id": "f6947028",
   "metadata": {},
   "outputs": [
    {
     "name": "stdout",
     "output_type": "stream",
     "text": [
      "April 20th, 2000 is date: False\n",
      "11-24-2000 is date: False\n",
      "2000-7-11 is date: False\n",
      "2000-07-11 is date: True\n",
      "2000-20-04 is date: False\n"
     ]
    }
   ],
   "source": [
    "print(f'April 20th, 2000 is date: {is_date(\"April 20th, 2000\")}')\n",
    "print(f'11-24-2000 is date: {is_date(\"11-24-2000\")}')\n",
    "print(f'2000-7-11 is date: {is_date(\"2000-4-20\")}')\n",
    "print(f'2000-07-11 is date: {is_date(\"2000-04-20\")}')\n",
    "print(f'2000-20-04 is date: {is_date(\"2000-20-04\")}')"
   ]
  },
  {
   "cell_type": "markdown",
   "id": "a952b2e7",
   "metadata": {},
   "source": [
    "# Lastly I will make a function that runs through the different validations and returns the matching one"
   ]
  },
  {
   "cell_type": "code",
   "execution_count": 43,
   "id": "d5a39ddb",
   "metadata": {},
   "outputs": [],
   "source": [
    "def classify(row):\n",
    "    # takes in a row and returns a string classification\n",
    "    \n",
    "    candidate = row ## comment line out for pandas use\n",
    "    # candidate = row[\"to_classify\"] ## This line is added for pandas use\n",
    "    \n",
    "    if is_int(candidate):\n",
    "        return \"whole number\"\n",
    "    \n",
    "    if is_decimal(candidate):\n",
    "        return \"decimal number\"\n",
    "    \n",
    "    if is_date(candidate):\n",
    "        return \"date\"\n",
    "    \n",
    "    if is_word(candidate):\n",
    "        return \"all letters\"\n",
    "    \n",
    "    return \"no clue\""
   ]
  },
  {
   "cell_type": "code",
   "execution_count": 56,
   "id": "9a91c8e7",
   "metadata": {},
   "outputs": [
    {
     "name": "stdout",
     "output_type": "stream",
     "text": [
      "3 is whole number\n",
      "\"3\" is whole number\n",
      "3.0 is decimal number\n",
      "\"hello\" is all letters\n",
      "\"he11o\" is no clue\n",
      "\"2000-4-20\" is no clue\n",
      "\"2000-04-20\" is date\n",
      "\"3.0\" is decimal number\n",
      "\"3.5\" is decimal number\n"
     ]
    }
   ],
   "source": [
    "print(f'3 is {classify(3)}')\n",
    "print(f'\"3\" is {classify(3)}')\n",
    "print(f'3.0 is {classify(3.0)}')\n",
    "print(f'\"hello\" is {classify(\"hello\")}')\n",
    "print(f'\"he11o\" is {classify(\"he11o\")}')\n",
    "print(f'\"2000-4-20\" is {classify(\"2000-4-20\")}')\n",
    "print(f'\"2000-04-20\" is {classify(\"2000-04-20\")}')\n",
    "print(f'\"3.0\" is {classify(\"3.0\")}')\n",
    "print(f'\"3.5\" is {classify(\"3.5\")}')"
   ]
  }
 ],
 "metadata": {
  "kernelspec": {
   "display_name": "Python 3 (ipykernel)",
   "language": "python",
   "name": "python3"
  },
  "language_info": {
   "codemirror_mode": {
    "name": "ipython",
    "version": 3
   },
   "file_extension": ".py",
   "mimetype": "text/x-python",
   "name": "python",
   "nbconvert_exporter": "python",
   "pygments_lexer": "ipython3",
   "version": "3.9.5"
  }
 },
 "nbformat": 4,
 "nbformat_minor": 5
}
