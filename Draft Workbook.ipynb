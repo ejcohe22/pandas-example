{
 "cells": [
  {
   "cell_type": "markdown",
   "id": "cea44178",
   "metadata": {},
   "source": [
    "## Imports only needs to be run at start of session\n",
    "\n",
    "datetime is standard python library for classifying year  \n",
    "pandas is a datasciene \"dataframs\" library  \n",
    "re is a standard python library for __r__egular __e__xpressions\n",
    "***\n",
    "Regular Expressions: powerful but difficult to use correctly\n",
    "```\n",
    "Basic tutorial on the re library:  \n",
    "https://www.w3schools.com/python/python_regex.asp  \n",
    "  \n",
    "Interactive Website to design Regex **make sure to select Python on left:  \n",
    "https://regex101.com/\n",
    "```"
   ]
  },
  {
   "cell_type": "code",
   "execution_count": 3,
   "id": "39f0d031",
   "metadata": {},
   "outputs": [],
   "source": [
    "import datetime # for classifying year\n",
    "import pandas as pd # datasciene \"dataframs\" library\n",
    "import re # Regular Expressions: powerful but difficult to use correctly"
   ]
  },
  {
   "cell_type": "markdown",
   "id": "4be1e2da",
   "metadata": {},
   "source": [
    "## now load and visualize data\n",
    "test what happens if you remove \"header=None\", see what happens when header=2  \n",
    "Try changing the \"names\" list\n",
    "\n",
    "more information on all the options for the read_csv pandas function:\n",
    "https://pandas.pydata.org/docs/reference/api/pandas.read_csv.html"
   ]
  },
  {
   "cell_type": "code",
   "execution_count": 47,
   "id": "969d4b04",
   "metadata": {},
   "outputs": [
    {
     "name": "stdout",
     "output_type": "stream",
     "text": [
      "    word 1 word 2 to_classify\n",
      "0      all   good      things\n",
      "1      may   not           be\n",
      "2  however   many           4\n",
      "3     but      it  2000-04-22\n",
      "4  should    work        44.3\n"
     ]
    }
   ],
   "source": [
    "df = pd.read_csv('test.csv', header=None, names=[\"word 1\", \"word 2\", \"to_classify\"]) \n",
    "print(df)"
   ]
  },
  {
   "cell_type": "markdown",
   "id": "8285d680",
   "metadata": {},
   "source": [
    "Now Ill make some validate functions for the different things i want to classify.  \n",
    "I will only write up letters, integers, decimal numbers (aka float), YYYY-MM-DD.\n",
    "Lastly I will make a function that runs through the different validations and returns the matching one"
   ]
  },
  {
   "cell_type": "code",
   "execution_count": 48,
   "id": "9cd89926",
   "metadata": {},
   "outputs": [],
   "source": [
    "# define my regular expressions\n",
    "only_letters = re.compile(r'[A-Za-z]*')\n",
    "NNNN_NN_NN = re.compile('[0-9]{4}-[0-9]{2}-[0-9]{2}')\n",
    "\n",
    "def is_word(word_candidate):\n",
    "    return bool( only_letters.fullmatch(word_candidate) )\n",
    "\n",
    "def is_int(integer_candidate):\n",
    "    try:\n",
    "        integer_candidate = int(integer_candidate)\n",
    "    except ValueError:\n",
    "        return False\n",
    "    return isinstance(integer_candidate, int)\n",
    "\n",
    "def is_decimal(decimal_candidate):\n",
    "    try:\n",
    "        decimal_candidate = float(decimal_candidate)\n",
    "    except ValueError:\n",
    "        return False\n",
    "    return isinstance(decimal_candidate, float)\n",
    "\n",
    "def is_date(date_candidate):\n",
    "    # as long as ####-##-## format\n",
    "    if bool( NNNN_NN_NN.fullmatch(date_candidate) ):\n",
    "        ## verify month and Day arent too large\n",
    "        try:\n",
    "            datetime.datetime.strptime(date_candidate, '%Y-%m-%d')\n",
    "            return True\n",
    "        except ValueError:\n",
    "            return False\n",
    "    # otherwise return false\n",
    "    return False\n",
    "\n",
    "def classify(row):\n",
    "    # takes in a row and returns a string classification\n",
    "    \n",
    "    candidate = row[\"to_classify\"]\n",
    "    \n",
    "    if is_int(candidate):\n",
    "        return \"whole number\"\n",
    "    \n",
    "    if is_decimal(candidate):\n",
    "        return \"decimal number\"\n",
    "    \n",
    "    if is_date(candidate):\n",
    "        return \"date\"\n",
    "    \n",
    "    if is_word(candidate):\n",
    "        return \"all letters\"\n",
    "    \n",
    "    return \"no clue\""
   ]
  },
  {
   "cell_type": "markdown",
   "id": "add9a4b7",
   "metadata": {},
   "source": [
    "Now I wil classify the \"to_classify\" column into a \"classification\" collumn using the above classify function (this will need an "
   ]
  },
  {
   "cell_type": "code",
   "execution_count": 49,
   "id": "ed1e571a",
   "metadata": {},
   "outputs": [
    {
     "name": "stdout",
     "output_type": "stream",
     "text": [
      "    word 1 word 2 to_classify  classification\n",
      "0      all   good      things     all letters\n",
      "1      may   not           be     all letters\n",
      "2  however   many           4    whole number\n",
      "3     but      it  2000-04-22            date\n",
      "4  should    work        44.3  decimal number\n"
     ]
    }
   ],
   "source": [
    "df[\"classification\"] = df.apply(classify, axis=1)\n",
    "print(df)"
   ]
  }
 ],
 "metadata": {
  "kernelspec": {
   "display_name": "Python 3 (ipykernel)",
   "language": "python",
   "name": "python3"
  },
  "language_info": {
   "codemirror_mode": {
    "name": "ipython",
    "version": 3
   },
   "file_extension": ".py",
   "mimetype": "text/x-python",
   "name": "python",
   "nbconvert_exporter": "python",
   "pygments_lexer": "ipython3",
   "version": "3.9.5"
  }
 },
 "nbformat": 4,
 "nbformat_minor": 5
}
